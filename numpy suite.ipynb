{
 "cells": [
  {
   "cell_type": "code",
   "execution_count": 1,
   "id": "cae358d1",
   "metadata": {},
   "outputs": [],
   "source": [
    "import numpy as np\n",
    "import matplotlib.pyplot as plt"
   ]
  },
  {
   "cell_type": "code",
   "execution_count": 13,
   "id": "eb492062",
   "metadata": {},
   "outputs": [],
   "source": [
    "\n",
    "tab1 = []\n",
    "\n",
    "\n",
    "for i in range (0,36) :\n",
    "    tab1.append(0)\n",
    "    \n"
   ]
  },
  {
   "cell_type": "code",
   "execution_count": 17,
   "id": "944178d9",
   "metadata": {},
   "outputs": [
    {
     "data": {
      "image/png": "[encoded data removed]",
      "text/plain": [
       "<Figure size 432x288 with 1 Axes>"
      ]
     },
     "metadata": {
      "needs_background": "light"
     },
     "output_type": "display_data"
    }
   ],
   "source": [
    "\n",
    "image=np.array([\n",
    "                tab1,\n",
    "                tab1,\n",
    "                tab1,\n",
    "                tab1,\n",
    "                tab1,\n",
    "                tab1\n",
    "])\n",
    "# afficher l'image \n",
    "plt.imshow(image,cmap='Greys_r')\n",
    "plt.show()"
   ]
  },
  {
   "cell_type": "markdown",
   "id": "9d6d6e7a",
   "metadata": {},
   "source": [
    "# 4 Vue et copie de tableaux\n",
    "## 4-1 Vue"
   ]
  },
  {
   "cell_type": "code",
   "execution_count": 20,
   "id": "db696d98",
   "metadata": {},
   "outputs": [
    {
     "name": "stdout",
     "output_type": "stream",
     "text": [
      "[42  2  3  4  5]\n",
      "[42  2  3  4  5]\n"
     ]
    }
   ],
   "source": [
    "# créer une vue d'un tableau, modifier le tableau d'origine et afficher les 2 tableau\n",
    "\n",
    "arr = np.array([1,2,3,4,5]) # tableau d'origine\n",
    "x = arr.view() # creation de la vue\n",
    "arr[0] = 42 # modification du tableau d'origine\n",
    "#affichage de la vue et du tableau d'origine\n",
    "print(arr)\n",
    "print(x)"
   ]
  },
  {
   "cell_type": "code",
   "execution_count": 21,
   "id": "8e53c466",
   "metadata": {},
   "outputs": [
    {
     "name": "stdout",
     "output_type": "stream",
     "text": [
      "[31  2  3  4  5]\n",
      "[31  2  3  4  5]\n"
     ]
    }
   ],
   "source": [
    "# créer une vue, modifier cette vue et afficher les 2 tableaux\n",
    "\n",
    "arr = np.array([1,2,3,4,5]) # tableau d'origine\n",
    "x = arr.view() # creation de la vue\n",
    "x[0] = 31 # modification du tableau d'origine\n",
    "#affichage de la vue et du tableau d'origine\n",
    "print(arr)\n",
    "print(x)"
   ]
  },
  {
   "cell_type": "markdown",
   "id": "447f1668",
   "metadata": {},
   "source": [
    "# Un tableau et sa vue son équivalent"
   ]
  },
  {
   "cell_type": "markdown",
   "id": "d3437c8a",
   "metadata": {},
   "source": [
    "## 4-2 Copie"
   ]
  },
  {
   "cell_type": "code",
   "execution_count": 22,
   "id": "aa05a4df",
   "metadata": {},
   "outputs": [
    {
     "name": "stdout",
     "output_type": "stream",
     "text": [
      "[42  2  3  4  5]\n",
      "[1 2 3 4 5]\n"
     ]
    }
   ],
   "source": [
    "# Faire une copie, modifier le tableau d'origine et affciher les 2 tableaux\n",
    "arr = np.array([1,2,3,4,5]) # tableau d'origine\n",
    "x = arr.copy()\n",
    "arr[0] = 42 # mdofication du tableau d'origine\n",
    "# affichage des 2 tableaux\n",
    "print(arr)\n",
    "print(x)"
   ]
  },
  {
   "cell_type": "markdown",
   "id": "a558aaac",
   "metadata": {},
   "source": [
    "# La copie d'un tableau diffère du tableau original"
   ]
  },
  {
   "cell_type": "markdown",
   "id": "4b94f9bf",
   "metadata": {},
   "source": [
    "# Initialisation de tableau numpy"
   ]
  },
  {
   "cell_type": "markdown",
   "id": "a959b4f7",
   "metadata": {},
   "source": [
    "## Initialiser un tableau de dimension 1\n",
    "\n",
    "syntaxe : tab = np.zeros([0])\n",
    "\n",
    "a = nombre d'éléments contenus dans le tableau\n",
    "\n"
   ]
  },
  {
   "cell_type": "code",
   "execution_count": 23,
   "id": "9be82765",
   "metadata": {},
   "outputs": [
    {
     "name": "stdout",
     "output_type": "stream",
     "text": [
      "[0. 0. 0. 0. 0. 0. 0. 0. 0. 0.]\n"
     ]
    }
   ],
   "source": [
    "# Exemple\n",
    "tab1 = np.zeros([10])\n",
    "print(tab1)"
   ]
  },
  {
   "cell_type": "markdown",
   "id": "42a29f04",
   "metadata": {},
   "source": [
    "# Initialiser un tableau de dimension 2 \n",
    "syntaxe : tab = np.zeros([a,b])\n",
    "Ce tableau contient a tableau de dimension 1 contenant chacun b éléments "
   ]
  },
  {
   "cell_type": "code",
   "execution_count": 24,
   "id": "3900a8b9",
   "metadata": {},
   "outputs": [
    {
     "name": "stdout",
     "output_type": "stream",
     "text": [
      "[[0. 0. 0.]\n",
      " [0. 0. 0.]\n",
      " [0. 0. 0.]\n",
      " [0. 0. 0.]]\n"
     ]
    }
   ],
   "source": [
    "# Exemple\n",
    "tab1 = np.zeros([4,3])\n",
    "print(tab1)"
   ]
  },
  {
   "cell_type": "markdown",
   "id": "8b64d2c0",
   "metadata": {},
   "source": [
    "# Initialiser un tableau de dimension 3\n",
    "syntaxe : tab = np.zeros([a,b,c])\n",
    "Ce tableau contient a tableaux de dimension 2 contenant chacun b tableaux de dimension 1 contenant chacun c éléments\n"
   ]
  },
  {
   "cell_type": "code",
   "execution_count": 25,
   "id": "6a3213b3",
   "metadata": {},
   "outputs": [
    {
     "name": "stdout",
     "output_type": "stream",
     "text": [
      "[[[0. 0. 0.]\n",
      "  [0. 0. 0.]]\n",
      "\n",
      " [[0. 0. 0.]\n",
      "  [0. 0. 0.]]\n",
      "\n",
      " [[0. 0. 0.]\n",
      "  [0. 0. 0.]]]\n"
     ]
    }
   ],
   "source": [
    "# Exemple\n",
    "tab3 = np.zeros([3,2,3])\n",
    "print(tab3)"
   ]
  },
  {
   "cell_type": "code",
   "execution_count": null,
   "id": "5e64dab7",
   "metadata": {},
   "outputs": [],
   "source": []
  }
 ],
 "metadata": {
  "kernelspec": {
   "display_name": "Python 3 (ipykernel)",
   "language": "python",
   "name": "python3"
  },
  "language_info": {
   "codemirror_mode": {
    "name": "ipython",
    "version": 3
   },
   "file_extension": ".py",
   "mimetype": "text/x-python",
   "name": "python",
   "nbconvert_exporter": "python",
   "pygments_lexer": "ipython3",
   "version": "3.9.13"
  }
 },
 "nbformat": 4,
 "nbformat_minor": 5
}
