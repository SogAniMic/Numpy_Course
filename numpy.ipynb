{
 "cells": [
  {
   "cell_type": "markdown",
   "id": "f52c7f2d",
   "metadata": {},
   "source": [
    "# Opérations sur les matrices avec numpy"
   ]
  },
  {
   "cell_type": "code",
   "execution_count": 2,
   "id": "ce22b13f",
   "metadata": {},
   "outputs": [],
   "source": [
    "# importation de la librairie \n",
    "import numpy as np"
   ]
  },
  {
   "cell_type": "code",
   "execution_count": 3,
   "id": "02b7cbf0",
   "metadata": {},
   "outputs": [
    {
     "name": "stdout",
     "output_type": "stream",
     "text": [
      "42\n"
     ]
    }
   ],
   "source": [
    "# Création d'un nobre (ou tableau de dimension 0)\n",
    "arr=np.array(42)\n",
    "print(arr)"
   ]
  },
  {
   "cell_type": "code",
   "execution_count": 4,
   "id": "6b1fb1e3",
   "metadata": {},
   "outputs": [
    {
     "name": "stdout",
     "output_type": "stream",
     "text": [
      "[1 2 3 4 5]\n"
     ]
    }
   ],
   "source": [
    "# Création de tableau de dimension1 suivant(il\n",
    "#contient des tableaux de dimension 0)\n",
    "\n",
    "arr=np.array([1,2,3,4,5])\n",
    "print(arr)"
   ]
  },
  {
   "cell_type": "code",
   "execution_count": 6,
   "id": "a06c97cf",
   "metadata": {},
   "outputs": [
    {
     "name": "stdout",
     "output_type": "stream",
     "text": [
      "[[1 8 5]\n",
      " [4 6 4]\n",
      " [5 7 2]]\n"
     ]
    }
   ],
   "source": [
    "# Créer le tableau de dimension 2 suiavant(il\n",
    "# contient des tableaux de dimension 1)\n",
    "\n",
    "arr=np.array([\n",
    "    [1,8,5],\n",
    "    [4,6,4],\n",
    "    [5,7,2]\n",
    "])\n",
    "print(arr)"
   ]
  },
  {
   "cell_type": "raw",
   "id": "988eee27",
   "metadata": {},
   "source": [
    "Règle:\n",
    "!!! Tout tableau de dimension n contient 1 ou plusieurs tableaux de dimensions  n-1 ."
   ]
  },
  {
   "cell_type": "code",
   "execution_count": 9,
   "id": "c6611a71",
   "metadata": {},
   "outputs": [
    {
     "name": "stdout",
     "output_type": "stream",
     "text": [
      "[[[ 1  2  3]\n",
      "  [ 4  5  6]]\n",
      "\n",
      " [[ 7  8  9]\n",
      "  [10 11 12]]]\n"
     ]
    }
   ],
   "source": [
    "# Créer le tableau de dimension 3 suiavant(il\n",
    "# contient des tableaux de dimension 2)\n",
    "\n",
    "arr=np.array([\n",
    "    [\n",
    "        [1,2,3],\n",
    "        [4,5,6]\n",
    "    ],\n",
    "    [\n",
    "        [7,8,9],\n",
    "        [10,11,12]\n",
    "    ]\n",
    "])\n",
    "\n",
    "print(arr)"
   ]
  },
  {
   "cell_type": "code",
   "execution_count": 10,
   "id": "d1404768",
   "metadata": {},
   "outputs": [
    {
     "name": "stdout",
     "output_type": "stream",
     "text": [
      "La dimension arr est: 0\n"
     ]
    }
   ],
   "source": [
    "# Identifier la diension d'un tableau\n",
    "\n",
    "a=np.array(52)\n",
    "print('La dimension arr est:',a.ndim)"
   ]
  },
  {
   "cell_type": "code",
   "execution_count": 11,
   "id": "e56850d1",
   "metadata": {},
   "outputs": [
    {
     "name": "stdout",
     "output_type": "stream",
     "text": [
      "La dimension arr est: 1\n"
     ]
    }
   ],
   "source": [
    "b=np.array([1,2,3,4,5])\n",
    "print('La dimension arr est:',b.ndim)"
   ]
  },
  {
   "cell_type": "code",
   "execution_count": 12,
   "id": "ca95cc71",
   "metadata": {},
   "outputs": [
    {
     "name": "stdout",
     "output_type": "stream",
     "text": [
      "La dimension arr est: 2\n"
     ]
    }
   ],
   "source": [
    "c=np.array([\n",
    "    [1,8,5],\n",
    "    [4,6,4],\n",
    "    [5,7,2]\n",
    "])\n",
    "print('La dimension arr est:',c.ndim)"
   ]
  },
  {
   "cell_type": "code",
   "execution_count": 13,
   "id": "1eb24c40",
   "metadata": {},
   "outputs": [
    {
     "name": "stdout",
     "output_type": "stream",
     "text": [
      "La dimension arr est: 3\n"
     ]
    }
   ],
   "source": [
    "d=np.array([\n",
    "    [\n",
    "        [1,2,3],\n",
    "        [4,5,6]\n",
    "    ],\n",
    "    [\n",
    "        [7,8,9],\n",
    "        [10,11,12]\n",
    "    ]\n",
    "])\n",
    "print('La dimension arr est:',d.ndim)"
   ]
  },
  {
   "cell_type": "code",
   "execution_count": 15,
   "id": "d85230f3",
   "metadata": {},
   "outputs": [
    {
     "name": "stdout",
     "output_type": "stream",
     "text": [
      "43\n"
     ]
    }
   ],
   "source": [
    "# Indexation\n",
    "# Accéder aux éléments d'un tableau de dimension1\n",
    "#Créer le tableau suivant et afficher les éléments pointés\n",
    "\n",
    "arr=np.array([43,22,1,10,])\n",
    "\n",
    "# Afficher 43\n",
    "print(arr[0])"
   ]
  },
  {
   "cell_type": "code",
   "execution_count": 16,
   "id": "42570b3e",
   "metadata": {},
   "outputs": [
    {
     "name": "stdout",
     "output_type": "stream",
     "text": [
      "10\n"
     ]
    }
   ],
   "source": [
    "# Afficher 10\n",
    "print(arr[3])"
   ]
  },
  {
   "cell_type": "code",
   "execution_count": 18,
   "id": "c6639cc5",
   "metadata": {},
   "outputs": [
    {
     "name": "stdout",
     "output_type": "stream",
     "text": [
      "22\n"
     ]
    }
   ],
   "source": [
    "# Afficher 22\n",
    "print(arr[1])"
   ]
  },
  {
   "cell_type": "code",
   "execution_count": 19,
   "id": "5c574047",
   "metadata": {},
   "outputs": [
    {
     "name": "stdout",
     "output_type": "stream",
     "text": [
      "19\n"
     ]
    }
   ],
   "source": [
    "# Accès aux éléments d'un tableau de dimension2\n",
    "# Créer le tableau suivant et afficher les éléments pointés\n",
    "\n",
    "arr=np.array([\n",
    "    [19,54,51],\n",
    "    [45,15,21],\n",
    "    [8,32,31]\n",
    "])\n",
    "\n",
    "# Afficher 19\n",
    "print(arr[0,0])"
   ]
  },
  {
   "cell_type": "code",
   "execution_count": 20,
   "id": "9aefe0fa",
   "metadata": {},
   "outputs": [
    {
     "name": "stdout",
     "output_type": "stream",
     "text": [
      "51\n"
     ]
    }
   ],
   "source": [
    "# Afficher 51\n",
    "print(arr[0,2])"
   ]
  },
  {
   "cell_type": "code",
   "execution_count": 22,
   "id": "7b463192",
   "metadata": {},
   "outputs": [
    {
     "name": "stdout",
     "output_type": "stream",
     "text": [
      "23\n"
     ]
    }
   ],
   "source": [
    "# Accès aux éléments d'un tableau de dimension 3\n",
    "# Créer le tableau suivant et afficher les éléments pointés\n",
    "\n",
    "\n",
    "arr=np.array([\n",
    "    [\n",
    "        [20,23],\n",
    "        [51,62]\n",
    "    ],\n",
    "    [\n",
    "        [0,1],\n",
    "        [0,1]\n",
    "    ],\n",
    "     [\n",
    "        [3,8],\n",
    "        [9,4]\n",
    "    ]\n",
    "])\n",
    "# Afficher 23\n",
    "print(arr[0,0,1])"
   ]
  },
  {
   "cell_type": "code",
   "execution_count": 23,
   "id": "3e823d4b",
   "metadata": {},
   "outputs": [
    {
     "name": "stdout",
     "output_type": "stream",
     "text": [
      "51\n"
     ]
    }
   ],
   "source": [
    "# Afficher 51\n",
    "print(arr[0,1,0])"
   ]
  },
  {
   "cell_type": "code",
   "execution_count": 24,
   "id": "a76107f8",
   "metadata": {},
   "outputs": [
    {
     "name": "stdout",
     "output_type": "stream",
     "text": [
      "0\n"
     ]
    }
   ],
   "source": [
    "# Afficher 0\n",
    "print(arr[1,1,0])"
   ]
  },
  {
   "cell_type": "code",
   "execution_count": 25,
   "id": "4db6ff78",
   "metadata": {},
   "outputs": [
    {
     "name": "stdout",
     "output_type": "stream",
     "text": [
      "1\n"
     ]
    }
   ],
   "source": [
    "# Afficher 1\n",
    "print(arr[1,0,1])"
   ]
  },
  {
   "cell_type": "code",
   "execution_count": 26,
   "id": "256c2a88",
   "metadata": {},
   "outputs": [
    {
     "name": "stdout",
     "output_type": "stream",
     "text": [
      "8\n"
     ]
    }
   ],
   "source": [
    "# Afficher 8\n",
    "print(arr[2,0,1])"
   ]
  },
  {
   "cell_type": "code",
   "execution_count": 28,
   "id": "8cf35f45",
   "metadata": {},
   "outputs": [
    {
     "name": "stdout",
     "output_type": "stream",
     "text": [
      "9\n"
     ]
    }
   ],
   "source": [
    "# Afficher 9\n",
    "print(arr[2,1,0])"
   ]
  },
  {
   "cell_type": "code",
   "execution_count": 3,
   "id": "4e985a6b",
   "metadata": {},
   "outputs": [
    {
     "name": "stdout",
     "output_type": "stream",
     "text": [
      "[[[ 6  0  1]\n",
      "  [ 0 -1  1]\n",
      "  [ 1  1  3]\n",
      "  [ 0  1  2]\n",
      "  [ 1  0  1]]\n",
      "\n",
      " [[ 1  0  1]\n",
      "  [ 3  4  2]\n",
      "  [ 2  1  0]\n",
      "  [ 8  6  0]\n",
      "  [ 9  5  4]]]\n"
     ]
    }
   ],
   "source": [
    "# Utilistion des indices négatifs\n",
    "tab=np.array([\n",
    "    [\n",
    "        [6,0,1],\n",
    "        [0,-1,1],\n",
    "        [1,1,3],\n",
    "        [0,1,2],\n",
    "        [1,0,1]\n",
    "    ],\n",
    "    [\n",
    "        [1,0,1],\n",
    "        [3,4,2],\n",
    "        [2,1,0],\n",
    "        [8,6,0],\n",
    "        [9,5,4]\n",
    "    ],\n",
    "    \n",
    "])\n",
    "print(tab)"
   ]
  },
  {
   "cell_type": "code",
   "execution_count": 4,
   "id": "d83a4e7c",
   "metadata": {},
   "outputs": [
    {
     "name": "stdout",
     "output_type": "stream",
     "text": [
      "2\n"
     ]
    }
   ],
   "source": [
    "#Affichage de 2\n",
    "# méthode1: utilisation d'indice positifs\n",
    "\n",
    "print(tab[1,1,2])"
   ]
  },
  {
   "cell_type": "code",
   "execution_count": 5,
   "id": "ff61ab75",
   "metadata": {},
   "outputs": [
    {
     "name": "stdout",
     "output_type": "stream",
     "text": [
      "2\n"
     ]
    }
   ],
   "source": [
    "# méthode2: utilisation d'indices négatifs\n",
    "\n",
    "print(tab[-1,-4,-1])"
   ]
  },
  {
   "cell_type": "code",
   "execution_count": 7,
   "id": "cf86790b",
   "metadata": {},
   "outputs": [
    {
     "name": "stdout",
     "output_type": "stream",
     "text": [
      "2\n"
     ]
    }
   ],
   "source": [
    "## méthode3: utilisation simultanées d'indices négatifs et positifs\n",
    "\n",
    "print(tab[1,1,-1])"
   ]
  },
  {
   "cell_type": "markdown",
   "id": "e49277d9",
   "metadata": {},
   "source": [
    "# Extraction d'une tranche d'un tableau\n",
    " # Règle : syntaxe utilisé : [début : fin : pas]\n",
    "  # - si le pas n'est pas précisé, il vaut 1 par défaut\n",
    "  # - si la fin n'est pas précisé, tout le reste du tableau est considéré\n",
    "  # - si le début n'est pas précisé, il vaut 0 par défaut c'est à dire le premier indice de position"
   ]
  },
  {
   "cell_type": "markdown",
   "id": "730b4af4",
   "metadata": {},
   "source": [
    "# Extraction dans un tableau de dimension 1"
   ]
  },
  {
   "cell_type": "code",
   "execution_count": 8,
   "id": "9ceab20a",
   "metadata": {},
   "outputs": [
    {
     "name": "stdout",
     "output_type": "stream",
     "text": [
      "[ 6 43 51 22  3 12]\n"
     ]
    }
   ],
   "source": [
    "#Exemple \n",
    "tab = np.array([6,43,51,22,3,12])\n",
    "print(tab)"
   ]
  },
  {
   "cell_type": "code",
   "execution_count": 9,
   "id": "217d694d",
   "metadata": {},
   "outputs": [
    {
     "name": "stdout",
     "output_type": "stream",
     "text": [
      "[ 6 43 51]\n"
     ]
    }
   ],
   "source": [
    "# extraction des 3 premier élément\n",
    "# première méthode\n",
    "print(tab[0:3])"
   ]
  },
  {
   "cell_type": "code",
   "execution_count": 10,
   "id": "8c6783b8",
   "metadata": {},
   "outputs": [
    {
     "name": "stdout",
     "output_type": "stream",
     "text": [
      "[ 6 43 51]\n"
     ]
    }
   ],
   "source": [
    "# deuxième méthode\n",
    "print(tab[:3])"
   ]
  },
  {
   "cell_type": "code",
   "execution_count": 12,
   "id": "4740769c",
   "metadata": {},
   "outputs": [
    {
     "name": "stdout",
     "output_type": "stream",
     "text": [
      "[22  3 12]\n"
     ]
    }
   ],
   "source": [
    "print(tab[3:])"
   ]
  },
  {
   "cell_type": "code",
   "execution_count": 14,
   "id": "5ce1b8ab",
   "metadata": {},
   "outputs": [
    {
     "name": "stdout",
     "output_type": "stream",
     "text": [
      "[ 8 14 30 55 11]\n"
     ]
    }
   ],
   "source": [
    "# extraction de tout les éléments avec un pas de 2\n",
    "# première méthode\n",
    "tab = np.array([8,10,14,21,30,40,55,33,11])\n",
    "print(tab[0::2])"
   ]
  },
  {
   "cell_type": "code",
   "execution_count": 15,
   "id": "ffaa4e4d",
   "metadata": {},
   "outputs": [
    {
     "name": "stdout",
     "output_type": "stream",
     "text": [
      "[ 8 14 30 55 11]\n"
     ]
    }
   ],
   "source": [
    "#deuxième méthode\n",
    "print(tab[0:9:2])\n"
   ]
  },
  {
   "cell_type": "code",
   "execution_count": 16,
   "id": "7a37b43a",
   "metadata": {},
   "outputs": [
    {
     "name": "stdout",
     "output_type": "stream",
     "text": [
      "[ 8 14 30 55 11]\n"
     ]
    }
   ],
   "source": [
    "#troisième méthode\n",
    "print(tab[::2])"
   ]
  },
  {
   "cell_type": "markdown",
   "id": "cd422866",
   "metadata": {},
   "source": [
    "# Extraction dans un tableau de dimension 2"
   ]
  },
  {
   "cell_type": "code",
   "execution_count": 18,
   "id": "bbe815d4",
   "metadata": {},
   "outputs": [
    {
     "name": "stdout",
     "output_type": "stream",
     "text": [
      "[[3 7 1 5 9]\n",
      " [8 2 6 0 4]]\n"
     ]
    }
   ],
   "source": [
    "# soit le tableau de dimension 2 suivant \n",
    "tab = np.array([\n",
    "    [3,7,1,5,9],\n",
    "    [8,2,6,0,4]\n",
    "])\n",
    "print(tab)"
   ]
  },
  {
   "cell_type": "code",
   "execution_count": 21,
   "id": "f283e54e",
   "metadata": {},
   "outputs": [
    {
     "name": "stdout",
     "output_type": "stream",
     "text": [
      "[7 1 5]\n"
     ]
    }
   ],
   "source": [
    "# extraire et afficher la trance [7,1,5]\n",
    "print(tab[0,1:4])"
   ]
  },
  {
   "cell_type": "code",
   "execution_count": 22,
   "id": "5a29e5de",
   "metadata": {},
   "outputs": [
    {
     "name": "stdout",
     "output_type": "stream",
     "text": [
      "[5 0]\n"
     ]
    }
   ],
   "source": [
    "# pour chaque sous tableau du tableau précedent, extraire l'élément se trouvant à la position 3\n",
    "print(tab[0:2,3])"
   ]
  },
  {
   "cell_type": "code",
   "execution_count": 24,
   "id": "3c0d4621",
   "metadata": {},
   "outputs": [
    {
     "name": "stdout",
     "output_type": "stream",
     "text": [
      "[5 0]\n"
     ]
    }
   ],
   "source": [
    "print(tab[:,3])"
   ]
  },
  {
   "cell_type": "markdown",
   "id": "9d5b1604",
   "metadata": {},
   "source": [
    "# Extraction dans un tableau de dimension 3"
   ]
  },
  {
   "cell_type": "code",
   "execution_count": 27,
   "id": "968bb1a5",
   "metadata": {},
   "outputs": [
    {
     "name": "stdout",
     "output_type": "stream",
     "text": [
      "[2 1 0]\n"
     ]
    }
   ],
   "source": [
    "# soit le tableau\n",
    "tab=np.array([\n",
    "    [\n",
    "        [6,0,1],\n",
    "        [0,-1,1],\n",
    "        [1,1,3],\n",
    "        [0,1,2],\n",
    "        [1,0,1]\n",
    "    ],\n",
    "    [\n",
    "        [1,0,1],\n",
    "        [3,4,2],\n",
    "        [2,1,0],\n",
    "        [8,6,0],\n",
    "        [9,5,4]\n",
    "    ],])\n",
    "\n",
    "print(tab[1, 2 , :])"
   ]
  },
  {
   "cell_type": "code",
   "execution_count": 28,
   "id": "6ae92982",
   "metadata": {},
   "outputs": [
    {
     "name": "stdout",
     "output_type": "stream",
     "text": [
      "[2 1 0]\n"
     ]
    }
   ],
   "source": [
    "print(tab[1, 2 ])"
   ]
  },
  {
   "cell_type": "code",
   "execution_count": 29,
   "id": "c8d75820",
   "metadata": {},
   "outputs": [
    {
     "name": "stdout",
     "output_type": "stream",
     "text": [
      "[2 1 0]\n"
     ]
    }
   ],
   "source": [
    "print(tab[-1, 2 , : 3])"
   ]
  },
  {
   "cell_type": "code",
   "execution_count": 30,
   "id": "b382460b",
   "metadata": {},
   "outputs": [
    {
     "name": "stdout",
     "output_type": "stream",
     "text": [
      "[2 1 0]\n"
     ]
    }
   ],
   "source": [
    "print(tab[1, 2 , 0 : 3])"
   ]
  },
  {
   "cell_type": "code",
   "execution_count": null,
   "id": "4dbbb788",
   "metadata": {},
   "outputs": [],
   "source": []
  },
  {
   "cell_type": "code",
   "execution_count": null,
   "id": "46cd525d",
   "metadata": {},
   "outputs": [],
   "source": []
  }
 ],
 "metadata": {
  "kernelspec": {
   "display_name": "Python 3 (ipykernel)",
   "language": "python",
   "name": "python3"
  },
  "language_info": {
   "codemirror_mode": {
    "name": "ipython",
    "version": 3
   },
   "file_extension": ".py",
   "mimetype": "text/x-python",
   "name": "python",
   "nbconvert_exporter": "python",
   "pygments_lexer": "ipython3",
   "version": "3.9.7"
  }
 },
 "nbformat": 4,
 "nbformat_minor": 5
}
